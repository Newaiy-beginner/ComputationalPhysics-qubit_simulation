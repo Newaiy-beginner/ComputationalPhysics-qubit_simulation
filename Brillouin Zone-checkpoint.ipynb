{
 "cells": [
  {
   "cell_type": "markdown",
   "metadata": {},
   "source": [
    "## Brillouin Zones"
   ]
  },
  {
   "cell_type": "markdown",
   "metadata": {},
   "source": [
    "### 2D case"
   ]
  },
  {
   "cell_type": "code",
   "execution_count": 1,
   "metadata": {},
   "outputs": [],
   "source": [
    "import math as m\n",
    "import numpy as np\n",
    "from numpy import linalg as LA\n",
    "import matplotlib.pyplot as plt\n",
    "from matplotlib.path import Path\n",
    "from matplotlib.patches import PathPatch"
   ]
  },
  {
   "cell_type": "code",
   "execution_count": 2,
   "metadata": {},
   "outputs": [
    {
     "data": {
      "text/plain": [
       "'\\n# Given drawing point\\nki = k0\\nkf = k0 + (g1+g2)\\ndef deltaPath(ki, kf, M):\\n    dx = np.zeros(M)\\n    dy = np.zeros(M)\\n    for i in range(M):\\n        dx[i] = ki[0] + i*(kf[0] - ki[0])/M\\n        dy[i] = ki[1] + i*(kf[1] - ki[1])/M\\n    d = np.append([dx], [dy], axis = 0)\\n    d = d.transpose()\\n    return d\\nprint(\"d = \\n\", deltaPath(ki, kf, 50))\\n\\n# def gamma, K, M points\\ngamma = k0\\nM = Mid[4]\\nK = newMid[4]\\nprint(gamma, M, K)\\n'"
      ]
     },
     "execution_count": 2,
     "metadata": {},
     "output_type": "execute_result"
    }
   ],
   "source": [
    "# 2D case\n",
    "def brillouin2D(t1, t2):\n",
    "    if (t1.dot(t2))/(LA.norm(t1)*LA.norm(t2)) == 1:\n",
    "        print(\"Not a basis\")\n",
    "        return\n",
    "    g1 = np.array([t2[1], (-1)*t2[0]])\n",
    "    g1 = g1*2.0*(m.pi)/(g1.dot(t1))\n",
    "    g2 = np.array([t1[1], (-1)*t1[0]])\n",
    "    g2 = g2*2.0*(m.pi)/(g2.dot(t2))\n",
    "    print(\"reciprocal: \", g1, ', ', g2)\n",
    "    trans1 = [-g2, (-g1-g2), -g1, (-g1+g2), g2, (g1+g2), g1, (g1-g2)]\n",
    "    trans1 = np.array(trans1, float)\n",
    "    \n",
    "    # record the nearest k point\n",
    "    len1 = LA.norm(g1)\n",
    "    i = 0\n",
    "    while i < trans1.shape[0]:\n",
    "        #print(LA.norm(trans1[i]))\n",
    "        if LA.norm(trans1[i]) > len1:\n",
    "            trans1 = np.delete(trans1, i, axis = 0)\n",
    "        i += 1\n",
    "    '''\n",
    "    print(\"check\")\n",
    "    for i in range(trans1.shape[0]):\n",
    "        print(LA.norm(trans1[i]))\n",
    "    '''\n",
    "\n",
    "    # Draw reciprocal vectors\n",
    "    k0 = np.array([0, 0])\n",
    "    MAX_LEN = 20\n",
    "    rec = []\n",
    "    def ReciprocalVecs(k):\n",
    "        if max(abs(k[0]), abs(k[1])) > MAX_LEN:\n",
    "            return\n",
    "        plt.scatter(k[0], k[1], s = 50, c = 'black', zorder = 3)\n",
    "        for i in range(trans1.shape[0]):\n",
    "            n1 = k + trans1[i]\n",
    "            plt.scatter(n1[0], n1[1], s = 50, c = 'red', zorder = 3)\n",
    "    ReciprocalVecs(k0)\n",
    "\n",
    "    # Setting Bragg Planes\n",
    "    transVec = trans1\n",
    "    def zoneBoundary(a):\n",
    "        mid = np.empty((trans1.shape[0], 2), dtype = float)\n",
    "        for i in range(trans1.shape[0]):\n",
    "            mid[i] = (a + a + transVec[i])/2.0\n",
    "        return mid\n",
    "    Mid = zoneBoundary(k0)\n",
    "    #print(\"Mid=\\n\", Mid)\n",
    "\n",
    "    # Set orthogonal line \n",
    "    slope = np.copy(transVec)\n",
    "    for i in range(trans1.shape[0]):\n",
    "        slope[i][[0, 1]] = slope[i][[1, 0]]\n",
    "        slope[i][0] *= -1\n",
    "    #print(slope)\n",
    "\n",
    "    def setNewMid(mid, slope):\n",
    "        newMid = np.empty((trans1.shape[0]+1, 2), dtype = float)\n",
    "        for i in range(trans1.shape[0]):\n",
    "            M = np.empty((2, 2), float)\n",
    "            M = np.append([slope[i%trans1.shape[0]]], [(-1)*slope[(i+1)%trans1.shape[0]]], axis = 0)\n",
    "            M = M.transpose()\n",
    "            #print(\"M = \\n\", M)\n",
    "            b = mid[(i+1)%trans1.shape[0]] - mid[i%trans1.shape[0]]\n",
    "            #print(b)\n",
    "            #print(LA.det(M))\n",
    "            var = LA.solve(M, b)\n",
    "            newMid[i] = mid[i] + var[0]*slope[i]\n",
    "            plt.scatter(newMid[i][0], newMid[i][1], s = 40, c = 'green', zorder = 3)\n",
    "        newMid[trans1.shape[0]] = np.array([0, 0], float)\n",
    "        return newMid\n",
    "\n",
    "    print(\"newMid=\\n\", setNewMid(Mid, slope))\n",
    "    newMid = setNewMid(Mid, slope)\n",
    "\n",
    "    # Draw Bragg Planes\n",
    "    vertices = newMid\n",
    "    codes = [Path.MOVETO] + [Path.LINETO]*(trans1.shape[0] - 1) + [Path.CLOSEPOLY]\n",
    "    path = Path(vertices, codes)\n",
    "    pathpatch = PathPatch(path, facecolor = 'aqua', edgecolor = 'green')\n",
    "    ax = plt.gca()\n",
    "    ax.add_patch(pathpatch)\n",
    "\n",
    "    # Plot\n",
    "    new_ticks = np.linspace(-10, 10, 5)\n",
    "    plt.xticks(new_ticks)\n",
    "    plt.yticks(new_ticks)\n",
    "    plt.grid(True)\n",
    "    plt.show()\n",
    "    \n",
    "'''\n",
    "# Given drawing point\n",
    "ki = k0\n",
    "kf = k0 + (g1+g2)\n",
    "def deltaPath(ki, kf, M):\n",
    "    dx = np.zeros(M)\n",
    "    dy = np.zeros(M)\n",
    "    for i in range(M):\n",
    "        dx[i] = ki[0] + i*(kf[0] - ki[0])/M\n",
    "        dy[i] = ki[1] + i*(kf[1] - ki[1])/M\n",
    "    d = np.append([dx], [dy], axis = 0)\n",
    "    d = d.transpose()\n",
    "    return d\n",
    "print(\"d = \\n\", deltaPath(ki, kf, 50))\n",
    "\n",
    "# def gamma, K, M points\n",
    "gamma = k0\n",
    "M = Mid[4]\n",
    "K = newMid[4]\n",
    "print(gamma, M, K)\n",
    "'''"
   ]
  },
  {
   "cell_type": "code",
   "execution_count": 3,
   "metadata": {},
   "outputs": [
    {
     "name": "stdout",
     "output_type": "stream",
     "text": [
      "reciprocal:  [3.14159265 2.22144147] ,  [ 3.14159265 -2.22144147]\n",
      "newMid=\n",
      " [[-2.35619449e+00  0.00000000e+00]\n",
      " [ 2.22044605e-16 -3.33216220e+00]\n",
      " [ 2.35619449e+00  0.00000000e+00]\n",
      " [-2.22044605e-16  3.33216220e+00]\n",
      " [ 0.00000000e+00  0.00000000e+00]]\n"
     ]
    },
    {
     "data": {
      "image/png": "[encoded data removed]",
      "text/plain": [
       "<Figure size 432x288 with 1 Axes>"
      ]
     },
     "metadata": {
      "needs_background": "light"
     },
     "output_type": "display_data"
    }
   ],
   "source": [
    "# Set basis in real space\n",
    "a_real = 1.0\n",
    "\n",
    "t1 = a_real*np.array([1., m.sqrt(2)])\n",
    "t2 = a_real*np.array([1., -m.sqrt(2)])\n",
    "\n",
    "brillouin2D(t1, t2)"
   ]
  },
  {
   "cell_type": "code",
   "execution_count": 4,
   "metadata": {},
   "outputs": [
    {
     "name": "stdout",
     "output_type": "stream",
     "text": [
      "reciprocal:  [3.62759873 6.28318531] ,  [ 3.62759873 -6.28318531]\n",
      "newMid=\n",
      " [[-3.62759873e+00  2.09439510e+00]\n",
      " [-3.62759873e+00 -2.09439510e+00]\n",
      " [-2.22044605e-16 -4.18879020e+00]\n",
      " [ 3.62759873e+00 -2.09439510e+00]\n",
      " [ 3.62759873e+00  2.09439510e+00]\n",
      " [ 2.22044605e-16  4.18879020e+00]\n",
      " [ 0.00000000e+00  0.00000000e+00]]\n"
     ]
    },
    {
     "data": {
      "image/png": "[encoded data removed]",
      "text/plain": [
       "<Figure size 432x288 with 1 Axes>"
      ]
     },
     "metadata": {
      "needs_background": "light"
     },
     "output_type": "display_data"
    }
   ],
   "source": [
    "t1 = np.array([m.sqrt(3)*a_real/2.0, a_real/2.0])\n",
    "t2 = t1.copy()\n",
    "t2[1] = (-1)*t2[1]\n",
    "\n",
    "brillouin2D(t1, t2)"
   ]
  },
  {
   "cell_type": "code",
   "execution_count": 5,
   "metadata": {},
   "outputs": [
    {
     "name": "stdout",
     "output_type": "stream",
     "text": [
      "reciprocal:  [ 6.28318531 -0.        ] ,  [-6.28318531  6.28318531]\n",
      "newMid=\n",
      " [[-3.14159265 -3.14159265]\n",
      " [-3.14159265  3.14159265]\n",
      " [-3.14159265  3.14159265]\n",
      " [ 3.14159265  3.14159265]\n",
      " [ 3.14159265 -3.14159265]\n",
      " [ 0.          0.        ]]\n"
     ]
    },
    {
     "data": {
      "image/png": "[encoded data removed]",
      "text/plain": [
       "<Figure size 432x288 with 1 Axes>"
      ]
     },
     "metadata": {
      "needs_background": "light"
     },
     "output_type": "display_data"
    }
   ],
   "source": [
    "t1 = a_real*np.array([1., 1.])\n",
    "t2 = a_real*np.array([0., 1.])\n",
    "\n",
    "brillouin2D(t1, t2)"
   ]
  },
  {
   "cell_type": "code",
   "execution_count": 6,
   "metadata": {},
   "outputs": [
    {
     "name": "stdout",
     "output_type": "stream",
     "text": [
      "Not a basis\n"
     ]
    }
   ],
   "source": [
    "t1 = a_real*np.array([0., 1.])\n",
    "t2 = a_real*np.array([0., 1.])\n",
    "\n",
    "brillouin2D(t1, t2)"
   ]
  },
  {
   "cell_type": "markdown",
   "metadata": {},
   "source": [
    "## Graphene"
   ]
  },
  {
   "cell_type": "code",
   "execution_count": 7,
   "metadata": {},
   "outputs": [],
   "source": [
    "def realspace(t1, t2, d_neibor):\n",
    "    rA0 = np.array([1, 0], dtype = float)\n",
    "    '''\n",
    "    linx = [rA0[0], rB0[0]]\n",
    "    liny = [rA0[1], rB0[1]]\n",
    "    plt.plot(linx, liny, c = 'gray', linewidth = 2)\n",
    "    plt.scatter(rA0[0], rA0[1], s = 50, c = 'red')\n",
    "    plt.scatter(rB0[0], rB0[1], s = 50, c = 'blue')\n",
    "    '''\n",
    "    #d_neibor = (LA.norm(t1))**2/(2*t1[0])\n",
    "    trans = np.array([(-1)*t2, (-1)*t1, t1, t2], dtype = float)\n",
    "\n",
    "    def linkAtoms(rA, rB):\n",
    "        linx = [rA[0], rB[0]]\n",
    "        liny = [rA[1], rB[1]]\n",
    "        plt.plot(linx, liny, c = 'gray', linewidth = 2)\n",
    "\n",
    "    MAX_LEN = 2.5\n",
    "    rec = []\n",
    "    def drawBonds(rA, k):\n",
    "        k += 1\n",
    "        #print(k)\n",
    "        if k > 30:\n",
    "            return\n",
    "        if max(abs(rA[0]), abs(rA[1])) > MAX_LEN:\n",
    "            return\n",
    "        neibor = np.array([d_neibor, 0]) + rA\n",
    "        linkAtoms(rA, neibor)\n",
    "        plt.scatter(rA[0], rA[1], s = 50, c = 'red', zorder = 3)\n",
    "        plt.scatter(neibor[0], neibor[1], s = 50, c = 'blue', zorder = 3)\n",
    "        rec.append(rA)\n",
    "        #print(rec)\n",
    "        for i in range(4):\n",
    "            if i < 2:\n",
    "                # t0 or t1\n",
    "                linkAtoms((neibor + trans[i]), rA)\n",
    "            else:\n",
    "                linkAtoms((rA + trans[i]), neibor)\n",
    "            if not any((LA.norm(rA + trans[i] - x) < 0.000001).all() for x in rec):\n",
    "                drawBonds(rA + trans[i], k)\n",
    "    drawBonds(rA0, 0)\n",
    "    plt.grid(True)\n",
    "    plt.show()\n",
    "    '''\n",
    "    plt.savefig('graphene_simple.png')\n",
    "    '''\n",
    "    '''\n",
    "    d = d_neibor\n",
    "    vertices = [(rA0[0]-d, 0), (rA0[0]+d/2.0, d*m.sqrt(3)/2.0), (rA0[0]+2*d, 0), (rA0[0]+d/2.0, -d*m.sqrt(3)/2.0), (0, 0)]\n",
    "    vertices = np.array(vertices, float)\n",
    "    codes = [Path.MOVETO] + [Path.LINETO]*3 + [Path.CLOSEPOLY]\n",
    "    path = Path(vertices, codes)\n",
    "    pathpatch = PathPatch(path, facecolor = 'aqua', edgecolor = 'green')\n",
    "    ax = plt.gca()\n",
    "    ax.add_patch(pathpatch)\n",
    "\n",
    "    transCell = [-t2, -t1, (t2-t1), t2, t1, (t1-t2)]\n",
    "    for i in range(6):\n",
    "        verti = vertices + transCell[i]\n",
    "        codes = [Path.MOVETO] + [Path.LINETO]*3 + [Path.CLOSEPOLY]\n",
    "        path = Path(verti, codes)\n",
    "        pathpatch = PathPatch(path, facecolor = 'white', edgecolor = 'green')\n",
    "        ax = plt.gca()\n",
    "        ax.add_patch(pathpatch)\n",
    "\n",
    "    ax.autoscale_view()\n",
    "\n",
    "    plt.show()\n",
    "    '''"
   ]
  },
  {
   "cell_type": "code",
   "execution_count": 8,
   "metadata": {},
   "outputs": [],
   "source": [
    "# 形變\n",
    "def Delta(t1, t2, delta):\n",
    "    d = (LA.norm(t1))**2/(2*t1[0])\n",
    "    delta = delta*d\n",
    "    dvec = np.array([(d + delta), 0.], float)\n",
    "    p1 = t1 - np.array([d, 0])\n",
    "    p2 = t2 - np.array([d, 0])\n",
    "    p1 *= (LA.norm(p1) - delta/1.0)/(LA.norm(p1))\n",
    "    #p2 *= (LA.norm(p2) - delta/2.0)/(LA.norm(p2))\n",
    "    t1 = dvec + p1\n",
    "    t2 = dvec + p2\n",
    "    ls = [t1, t2, dvec]\n",
    "    ls = np.array(ls, float)\n",
    "    return ls"
   ]
  },
  {
   "cell_type": "code",
   "execution_count": 9,
   "metadata": {
    "scrolled": true
   },
   "outputs": [
    {
     "name": "stdout",
     "output_type": "stream",
     "text": [
      "Translation basis in real:  [1.01036297 0.25      ] ,  [ 1.15470054 -0.5       ] ,  0.8660254037844384\n",
      "reciprocal:  [3.95738043 9.13917863] ,  [ 1.97869022 -7.9967813 ]\n"
     ]
    },
    {
     "data": {
      "image/png": "[encoded data removed]",
      "text/plain": [
       "<Figure size 432x288 with 1 Axes>"
      ]
     },
     "metadata": {
      "needs_background": "light"
     },
     "output_type": "display_data"
    },
    {
     "name": "stdout",
     "output_type": "stream",
     "text": [
      "End\n"
     ]
    }
   ],
   "source": [
    "t1 = np.array([m.sqrt(3)*a_real/2.0, a_real/2.0])\n",
    "t2 = t1.copy()\n",
    "t2[1] = (-1)*t2[1]\n",
    "# Distance between atoms\n",
    "#d = (LA.norm(t1))**2/(2*t1[0])\n",
    "ls = Delta(t1, t2, 0.5)\n",
    "t1 = ls[0]\n",
    "t2 = ls[1]\n",
    "d = ls[2][0]\n",
    "print(\"Translation basis in real: \", t1, \", \", t2, \", \", d)\n",
    "nearestA = [t1, (t1-t2), -t2, -t1, (t2-t1), t2]\n",
    "nearestB = [np.array([d, 0.0]), (-t2 + np.array([d, 0.0])), (-t1 + np.array([d, 0.0]))]\n",
    "#print(nearestA)\n",
    "#print(nearestB)\n",
    "# 2D case\n",
    "g1 = np.array([t2[1], (-1)*t2[0]])\n",
    "g1 = g1*2.0*(m.pi)/(g1.dot(t1))\n",
    "g2 = np.array([t1[1], (-1)*t1[0]])\n",
    "g2 = g2*2.0*(m.pi)/(g2.dot(t2))\n",
    "print(\"reciprocal: \", g1, ', ', g2)\n",
    "realspace(t1, t2, float(d))\n",
    "print(\"End\")"
   ]
  },
  {
   "cell_type": "code",
   "execution_count": null,
   "metadata": {},
   "outputs": [],
   "source": []
  }
 ],
 "metadata": {
  "kernelspec": {
   "display_name": "Python 3",
   "language": "python",
   "name": "python3"
  },
  "language_info": {
   "codemirror_mode": {
    "name": "ipython",
    "version": 3
   },
   "file_extension": ".py",
   "mimetype": "text/x-python",
   "name": "python",
   "nbconvert_exporter": "python",
   "pygments_lexer": "ipython3",
   "version": "3.7.2"
  }
 },
 "nbformat": 4,
 "nbformat_minor": 2
}
