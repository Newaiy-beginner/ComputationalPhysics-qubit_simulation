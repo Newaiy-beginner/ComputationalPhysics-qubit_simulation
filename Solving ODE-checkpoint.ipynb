{
 "cells": [
  {
   "cell_type": "code",
   "execution_count": 2,
   "metadata": {},
   "outputs": [
    {
     "name": "stdout",
     "output_type": "stream",
     "text": [
      "[0.  0.5 1.  1.5 2.  2.5 3.  3.5 4.  4.5 5.  5.5 6.  6.5 7.  7.5 8.  8.5\n",
      " 9.  9.5]\n"
     ]
    },
    {
     "data": {
      "image/png": "[encoded data removed]",
      "text/plain": [
       "<Figure size 432x288 with 1 Axes>"
      ]
     },
     "metadata": {
      "needs_background": "light"
     },
     "output_type": "display_data"
    },
    {
     "data": {
      "text/plain": [
       "'\\nvyAnal = []\\nfor i in range(len(vx)):\\n    vyAnal.append(anal(vx[i]))\\nplt.plot(vx, vyAnal, \\'r-.\\')\\nfor x, y in list(zip(vx, vy))[::10]:\\n    print(\"%4.1f %10.5f %+12.4e\" % (x, y, y - (4 + x * x)**2 / 16))\\n'"
      ]
     },
     "execution_count": 2,
     "metadata": {},
     "output_type": "execute_result"
    }
   ],
   "source": [
    "import math\n",
    "import cmath\n",
    "import numpy as np\n",
    "import matplotlib.pyplot as plt\n",
    "\n",
    "def anal(x):\n",
    "    return math.exp(1.3*x)\n",
    "\n",
    "def rk4(f1, f2, x0, y10, y20, x1, n):\n",
    "    vx = np.zeros(n+1, complex)\n",
    "    vy1 = np.zeros(n+1, complex)\n",
    "    vy2 = np.zeros(n+1, complex)\n",
    "    h = complex((x1 - x0)/n)\n",
    "    vx[0] = x = x0\n",
    "    vy1[0] = y1 = y10\n",
    "    vy2[0] = y2 = y20\n",
    "    for i in range(1, n+1):\n",
    "        c1g1 = h * f1(x, y1, y2)\n",
    "        c2g1 = h * f2(x, y1, y2)\n",
    "        c1g2 = h * f1(x + 0.5*h, y1 + 0.5*c1g1, y2 + 0.5*c2g1)\n",
    "        c2g2 = h * f2(x + 0.5*h, y1 + 0.5*c1g1, y2 + 0.5*c2g1)\n",
    "        c1g3 = h * f1(x + 0.5*h, y1 + 0.5*c1g2, y2 + 0.5*c2g2)\n",
    "        c2g3 = h * f2(x + 0.5*h, y1 + 0.5*c1g2, y2 + 0.5*c2g2)\n",
    "        c1g4 = h * f1(x + h, y1 + c1g3, y2 + c2g3)\n",
    "        c2g4 = h * f2(x + h, y1 + c1g3, y2 + c2g3)\n",
    "        vx[i] = x = x0 + i*h\n",
    "        vy1[i] = y1 = y1 + (c1g1 + 2*c1g2 + 2*c1g3 + c1g4)/6\n",
    "        vy2[i] = y2 = y2 + (c2g1 + 2*c2g2 + 2*c2g3 + c2g4)/6\n",
    "    return vx, vy1, vy2\n",
    "\n",
    "omega = 1.0\n",
    "def perturb(x, y, conj):\n",
    "    return 1.0\n",
    "    '''\n",
    "    if x.real < 4.0:\n",
    "        return 0.0\n",
    "    else:\n",
    "        return -(0.5)*2.0\n",
    "   \n",
    "    if conj == \"bar\":\n",
    "        return 1.0*cmath.exp(-1j*omega*x)\n",
    "    else:\n",
    "        return 1.0*cmath.exp(1j*omega*x)\n",
    "     '''\n",
    "def f1(x, y1, y2):\n",
    "    return y2\n",
    "    #return 0.5*(-1j)*y*perturb(x, y, \"\")*cmath.exp(-1j*x)\n",
    "    #return (-1j)*(y1+y2)\n",
    "def f2(x, y1, y2):\n",
    "    return -1*y1\n",
    "    #return 0.5*(-1j)*y*perturb(x, y, \"bar\")*cmath.exp(1j*x)\n",
    "    return (-1j)*(y2+y1)\n",
    " \n",
    "vx, vya, vyb = rk4(f1, f2, 0, 1, 0, 5, 100)\n",
    "#print(vx, '\\n', vya)\n",
    "xUnit = np.arange(0, 10, 1/2.0)\n",
    "print(xUnit)\n",
    "plt.xticks(xUnit)\n",
    "plt.plot(vx.real, abs(vya)**2, 'b-.')\n",
    "#plt.plot(vx.real, abs(vyb)**2, 'r:')\n",
    "\n",
    "def cI1(x):\n",
    "    return abs(0.5*(1 + cmath.exp(1j*2*x)))**2\n",
    "def cI2(x):\n",
    "    return abs(0.5*(1 - cmath.exp(-1j*2*x)))**2\n",
    "\n",
    "vAnal = []\n",
    "for i in range(len(vx)):\n",
    "    vAnal.append(cI1(vx[i]))\n",
    "plt.plot(vx.real, vAnal, 'r:')\n",
    "plt.grid(True)\n",
    "plt.show()\n",
    "'''\n",
    "vyAnal = []\n",
    "for i in range(len(vx)):\n",
    "    vyAnal.append(anal(vx[i]))\n",
    "plt.plot(vx, vyAnal, 'r-.')\n",
    "for x, y in list(zip(vx, vy))[::10]:\n",
    "    print(\"%4.1f %10.5f %+12.4e\" % (x, y, y - (4 + x * x)**2 / 16))\n",
    "'''"
   ]
  },
  {
   "cell_type": "code",
   "execution_count": null,
   "metadata": {},
   "outputs": [],
   "source": []
  }
 ],
 "metadata": {
  "kernelspec": {
   "display_name": "Python 3",
   "language": "python",
   "name": "python3"
  },
  "language_info": {
   "codemirror_mode": {
    "name": "ipython",
    "version": 3
   },
   "file_extension": ".py",
   "mimetype": "text/x-python",
   "name": "python",
   "nbconvert_exporter": "python",
   "pygments_lexer": "ipython3",
   "version": "3.7.2"
  }
 },
 "nbformat": 4,
 "nbformat_minor": 2
}
