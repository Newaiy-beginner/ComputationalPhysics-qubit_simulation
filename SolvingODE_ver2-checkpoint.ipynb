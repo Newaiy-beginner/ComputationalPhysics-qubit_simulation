{
 "cells": [
  {
   "cell_type": "code",
   "execution_count": 1,
   "metadata": {},
   "outputs": [
    {
     "name": "stdout",
     "output_type": "stream",
     "text": [
      "Perturbation amplitude: 20.0 hbar\n",
      "Turn of time: 0.15707963267948966\n",
      "0.002560920728582471 0.9974390792676769\n"
     ]
    }
   ],
   "source": [
    "import math\n",
    "import cmath\n",
    "import numpy as np\n",
    "import matplotlib.pyplot as plt\n",
    "\n",
    "hbar = 1.0\n",
    "OAratio = 5.0\n",
    "omega0 = 100.0\n",
    "A = omega0/OAratio\n",
    "omega = omega0\n",
    "E1 = 0.5*hbar*omega0\n",
    "E2 = -0.5*hbar*omega0\n",
    "\n",
    "N = 1000\n",
    "\n",
    "def perturb(t, V, freq):\n",
    "    return V*hbar*math.cos(freq*t)\n",
    "def rk4(f1, f2, x0, y10, y20, x1, n):\n",
    "    vx = np.zeros(n+1, complex)\n",
    "    vy1 = np.zeros(n+1, complex)\n",
    "    vy2 = np.zeros(n+1, complex)\n",
    "    h = complex((x1 - x0)/n)\n",
    "    vx[0] = x = x0\n",
    "    vy1[0] = y1 = y10\n",
    "    vy2[0] = y2 = y20\n",
    "    for i in range(1, n+1):\n",
    "        c1g1 = h * f1(x, y1, y2)\n",
    "        c2g1 = h * f2(x, y1, y2)\n",
    "        c1g2 = h * f1(x + 0.5*h, y1 + 0.5*c1g1, y2 + 0.5*c2g1)\n",
    "        c2g2 = h * f2(x + 0.5*h, y1 + 0.5*c1g1, y2 + 0.5*c2g1)\n",
    "        c1g3 = h * f1(x + 0.5*h, y1 + 0.5*c1g2, y2 + 0.5*c2g2)\n",
    "        c2g3 = h * f2(x + 0.5*h, y1 + 0.5*c1g2, y2 + 0.5*c2g2)\n",
    "        c1g4 = h * f1(x + h, y1 + c1g3, y2 + c2g3)\n",
    "        c2g4 = h * f2(x + h, y1 + c1g3, y2 + c2g3)\n",
    "        vx[i] = x = x0 + i*h\n",
    "        vy1[i] = y1 = y1 + (c1g1 + 2*c1g2 + 2*c1g3 + c1g4)/6\n",
    "        vy2[i] = y2 = y2 + (c2g1 + 2*c2g2 + 2*c2g3 + c2g4)/6\n",
    "    return vx.real, vy1, vy2\n",
    "def g1(x, y1, y2):\n",
    "    x = x.real\n",
    "    return ((-1j)/hbar)*(E1*y1 + perturb(x, A, omega)*y2)\n",
    "def g2(x, y1, y2):\n",
    "    x = x.real\n",
    "    return ((-1j)/hbar)*(E2*y2 + perturb(x, A, omega)*y1)\n",
    "\n",
    "t, c1, c2 = rk4(g1, g2, 0, 1.0, 0.0, (OAratio*math.pi/omega0), N)\n",
    "C1 = [abs(c1[i])**2.0 for i in range(len(c1))]\n",
    "C2 = [abs(c2[i])**2.0 for i in range(len(c2))]\n",
    "fig = plt.figure(figsize = (11, 7))\n",
    "ax = fig.add_subplot(111)\n",
    "ax.grid(True)\n",
    "ax.plot(t, C1)\n",
    "ax.plot(t, C2)\n",
    "print(\"Perturbation amplitude:\", hbar*A, \"hbar\")\n",
    "print(\"Turn of time:\", OAratio*math.pi/omega0)\n",
    "print(C1[len(C1)-1], C2[len(C2) - 1])"
   ]
  },
  {
   "cell_type": "code",
   "execution_count": 2,
   "metadata": {},
   "outputs": [
    {
     "data": {
      "text/plain": [
       "[<matplotlib.lines.Line2D at 0x268d16c3be0>]"
      ]
     },
     "execution_count": 2,
     "metadata": {},
     "output_type": "execute_result"
    },
    {
     "data": {
      "image/png": "[encoded data removed]",
      "text/plain": [
       "<Figure size 792x504 with 1 Axes>"
      ]
     },
     "metadata": {
      "needs_background": "light"
     },
     "output_type": "display_data"
    }
   ],
   "source": [
    "# RWA approximation\n",
    "def RWAf1(x, y1, y2):\n",
    "    return ((-1j)*0.5*A)*y2\n",
    "def RWAf2(x, y1, y2):\n",
    "    return ((-1j)*0.5*A)*y1\n",
    "RWAt, RWAc1, RWAc2 = rk4(RWAf1, RWAf2, 0, 1.0, 0.0, (OAratio*math.pi/omega0), N)\n",
    "RWAC1 = [abs(RWAc1[i])**2.0 for i in range(len(RWAt))]\n",
    "RWAC2 = [abs(RWAc2[i])**2.0 for i in range(len(RWAt))]\n",
    "\n",
    "fig = plt.figure(figsize = (11, 7))\n",
    "ax = fig.add_subplot(111)\n",
    "ax.grid(True)\n",
    "\n",
    "ax.plot(t, RWAC1, 'r-')\n",
    "ax.plot(t, C1, 'b-.', zorder = 3)"
   ]
  },
  {
   "cell_type": "code",
   "execution_count": 3,
   "metadata": {},
   "outputs": [
    {
     "data": {
      "text/plain": [
       "\"\\nxUnit = np.arange(0, 10, 1/2.0)\\nprint(xUnit)\\nplt.xticks(xUnit)\\n\\nplt.grid(True)\\n\\n#plt.plot(vx1.real, abs(vyb1)**2.0, 'r:', zorder = 3)\\n\\n#plt.plot(vx1, vya1.imag, 'r-')\\n#plt.plot(vx1, vya1.real, 'r-')\\nplt.plot(vx1, abs(vya1)**2.0, 'b:', zorder = 2)\\n#plt.plot(vx.real, Darr, 'g-')\\n#plt.ylim(-0.1, 1.1)\\nplt.show()\\n\\nprint(max(abs(vyb)**2.0))\\nprint(math.cos(math.atan(omega0/(2*A)))**(2.0))\\n\""
      ]
     },
     "execution_count": 3,
     "metadata": {},
     "output_type": "execute_result"
    }
   ],
   "source": [
    "'''\n",
    "# Time-dependent\n",
    "phi = math.pi/2.0\n",
    "def ft1(x, y1, y2):\n",
    "    #V = 0.5*A*cmath.exp(-1j*omega*x)\n",
    "    #V = A*cmath.cos(omega*x)\n",
    "    #V = A*cmath.exp(-1j*phi)\n",
    "    V = 0.0\n",
    "    return ((1j)/hbar)*V*cmath.exp(1j*omega0*x)*y2\n",
    "def ft2(x, y1, y2):\n",
    "    #Vbar = 0.5*A*cmath.exp(1j*omega*x)\n",
    "    #Vbar = A*cmath.cos(omega*x)\n",
    "    #V = A*cmath.exp(1j*phi)\n",
    "    V = 0.0\n",
    "    return ((1j)/hbar)*V*cmath.exp(-1j*omega0*x)*y1\n",
    "\n",
    "#omegaR = math.sqrt(omega**2.0 + (abs(A)**2.0)/(hbar**2.0))\n",
    "\n",
    "vx, vya, vyb = rk4(ft1, ft2, 0, 1/math.sqrt(2), 1/math.sqrt(2), 10.0, 500)\n",
    "'''\n",
    "# Phase is relevant!!!\n",
    "\n",
    "#print(vx, '\\n', vya)\n",
    "'''\n",
    "xUnit = np.arange(0, 10, 1/2.0)\n",
    "print(xUnit)\n",
    "plt.xticks(xUnit)\n",
    "\n",
    "plt.grid(True)\n",
    "\n",
    "#plt.plot(vx1.real, abs(vyb1)**2.0, 'r:', zorder = 3)\n",
    "\n",
    "#plt.plot(vx1, vya1.imag, 'r-')\n",
    "#plt.plot(vx1, vya1.real, 'r-')\n",
    "plt.plot(vx1, abs(vya1)**2.0, 'b:', zorder = 2)\n",
    "#plt.plot(vx.real, Darr, 'g-')\n",
    "#plt.ylim(-0.1, 1.1)\n",
    "plt.show()\n",
    "\n",
    "print(max(abs(vyb)**2.0))\n",
    "print(math.cos(math.atan(omega0/(2*A)))**(2.0))\n",
    "'''"
   ]
  },
  {
   "cell_type": "code",
   "execution_count": 4,
   "metadata": {},
   "outputs": [
    {
     "name": "stdout",
     "output_type": "stream",
     "text": [
      "(0.22270258921047847+0j)\n"
     ]
    }
   ],
   "source": [
    "print(complex(math.erf(0.2)))"
   ]
  },
  {
   "cell_type": "code",
   "execution_count": 5,
   "metadata": {},
   "outputs": [
    {
     "name": "stderr",
     "output_type": "stream",
     "text": [
      "c:\\users\\user\\appdata\\local\\programs\\python\\python37\\lib\\site-packages\\numpy\\core\\numeric.py:538: ComplexWarning: Casting complex values to real discards the imaginary part\n",
      "  return array(a, dtype, copy=False, order=order)\n"
     ]
    },
    {
     "name": "stdout",
     "output_type": "stream",
     "text": [
      "(0.10909498364269243+0j)\n"
     ]
    },
    {
     "data": {
      "image/png": "[encoded data removed]",
      "text/plain": [
       "<Figure size 432x288 with 1 Axes>"
      ]
     },
     "metadata": {
      "needs_background": "light"
     },
     "output_type": "display_data"
    }
   ],
   "source": [
    "def V(x):\n",
    "    err = math.erf(2.0*(x - 1.0))+1.0\n",
    "    return complex(A*err/2.0)\n",
    "x = np.linspace(-5.0, 5.0, 101)\n",
    "v1 = [V(x[i]) for i in range(len(x))]\n",
    "v2 = [V(2.0*x[i]) for i in range(len(x))]\n",
    "plt.plot(x, v1)\n",
    "#plt.plot(x, v2, 'b-')\n",
    "print(V(0.1))"
   ]
  },
  {
   "cell_type": "code",
   "execution_count": 1,
   "metadata": {},
   "outputs": [
    {
     "ename": "ModuleNotFoundError",
     "evalue": "No module named 'qutip'",
     "output_type": "error",
     "traceback": [
      "\u001b[1;31m---------------------------------------------------------------------------\u001b[0m",
      "\u001b[1;31mModuleNotFoundError\u001b[0m                       Traceback (most recent call last)",
      "\u001b[1;32m<ipython-input-1-17dcc67539ea>\u001b[0m in \u001b[0;36m<module>\u001b[1;34m\u001b[0m\n\u001b[1;32m----> 1\u001b[1;33m \u001b[1;32mfrom\u001b[0m \u001b[0mqutip\u001b[0m \u001b[1;32mimport\u001b[0m \u001b[1;33m*\u001b[0m\u001b[1;33m\u001b[0m\u001b[1;33m\u001b[0m\u001b[0m\n\u001b[0m\u001b[0;32m      2\u001b[0m \u001b[0mabout\u001b[0m\u001b[1;33m(\u001b[0m\u001b[1;33m)\u001b[0m\u001b[1;33m\u001b[0m\u001b[1;33m\u001b[0m\u001b[0m\n",
      "\u001b[1;31mModuleNotFoundError\u001b[0m: No module named 'qutip'"
     ]
    }
   ],
   "source": [
    "from qutip import *\n",
    "about()"
   ]
  },
  {
   "cell_type": "code",
   "execution_count": null,
   "metadata": {},
   "outputs": [],
   "source": []
  },
  {
   "cell_type": "code",
   "execution_count": null,
   "metadata": {},
   "outputs": [],
   "source": []
  }
 ],
 "metadata": {
  "kernelspec": {
   "display_name": "Python 3",
   "language": "python",
   "name": "python3"
  },
  "language_info": {
   "codemirror_mode": {
    "name": "ipython",
    "version": 3
   },
   "file_extension": ".py",
   "mimetype": "text/x-python",
   "name": "python",
   "nbconvert_exporter": "python",
   "pygments_lexer": "ipython3",
   "version": "3.7.2"
  }
 },
 "nbformat": 4,
 "nbformat_minor": 4
}
